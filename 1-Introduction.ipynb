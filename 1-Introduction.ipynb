{
 "cells": [
  {
   "cell_type": "markdown",
   "id": "3c928b87-382c-4803-a542-82c1e6c9e2b0",
   "metadata": {},
   "source": [
    "## 1-Listes"
   ]
  },
  {
   "cell_type": "code",
   "execution_count": 79,
   "id": "48303eb6-0ff1-4537-957d-8c1d35718d09",
   "metadata": {},
   "outputs": [],
   "source": [
    "## Creation d'une liste des etudiants\n",
    "etudiants = [\"Ayman\",\"Souhail\",\"Othmane\"]\n",
    "data = [x**2 for x in range(5)]\n",
    "lis1=[\"red\",\"blue\",\"green\"]\n",
    "lis2=[5,2,1]"
   ]
  },
  {
   "cell_type": "code",
   "execution_count": 45,
   "id": "5421a070-0f01-46d7-b3fa-82ff3f7a8947",
   "metadata": {},
   "outputs": [
    {
     "name": "stdout",
     "output_type": "stream",
     "text": [
      "['Ayman', 'Souhail', 'Othmane']\n"
     ]
    }
   ],
   "source": [
    "## Afficher La liste\n",
    "print(etudiants)"
   ]
  },
  {
   "cell_type": "code",
   "execution_count": 68,
   "id": "e4319b44-855f-4609-8c73-8250b66e94ec",
   "metadata": {},
   "outputs": [
    {
     "name": "stdout",
     "output_type": "stream",
     "text": [
      "['Souhail', 'Othmane']\n"
     ]
    }
   ],
   "source": [
    "## Supprimer un element\n",
    "# del etudiants[0]\n",
    "etudiants.remove(\"Ayman\")\n",
    "print(etudiants)"
   ]
  },
  {
   "cell_type": "code",
   "execution_count": 69,
   "id": "dfa00c85-0f7b-4540-b1df-245d74dbaad6",
   "metadata": {},
   "outputs": [
    {
     "name": "stdout",
     "output_type": "stream",
     "text": [
      "['red', 'white', 'blue', 'green']\n"
     ]
    }
   ],
   "source": [
    "## Ajouter \"white\" apres \"red\" dans la liste1\n",
    "lis1.insert(1,\"white\")\n",
    "print(lis1)"
   ]
  },
  {
   "cell_type": "code",
   "execution_count": 70,
   "id": "7b41e3c4-5e02-43f6-9779-70919955791f",
   "metadata": {},
   "outputs": [
    {
     "name": "stdout",
     "output_type": "stream",
     "text": [
      "['white', 'blue', 'green']\n"
     ]
    }
   ],
   "source": [
    "## Supprimer Red\n",
    "lis1.remove(\"red\")\n",
    "print(lis1)"
   ]
  },
  {
   "cell_type": "code",
   "execution_count": 71,
   "id": "fd043232-b6c7-4c90-b8c0-2fab989ed152",
   "metadata": {},
   "outputs": [
    {
     "name": "stdout",
     "output_type": "stream",
     "text": [
      "[5, 2]\n"
     ]
    }
   ],
   "source": [
    "## Supprimer 1 de la list2\n",
    "lis2.remove(1)\n",
    "print(lis2)"
   ]
  },
  {
   "cell_type": "code",
   "execution_count": 72,
   "id": "8eba5492-25b5-48fc-97da-d1dcc962d8d4",
   "metadata": {},
   "outputs": [
    {
     "name": "stdout",
     "output_type": "stream",
     "text": [
      "[7, 2]\n"
     ]
    }
   ],
   "source": [
    "## Modifier 5 par 7\n",
    "lis2[0] = 7\n",
    "print(lis2)"
   ]
  },
  {
   "cell_type": "code",
   "execution_count": 73,
   "id": "cad13bff-53ad-4000-8180-d78d736cf0c0",
   "metadata": {},
   "outputs": [
    {
     "name": "stdout",
     "output_type": "stream",
     "text": [
      "2\n"
     ]
    }
   ],
   "source": [
    "## Afficher les paires des elements de la liste2\n",
    "for item in lis2 :\n",
    "    if item % 2 == 0 :\n",
    "        print(item)"
   ]
  },
  {
   "cell_type": "code",
   "execution_count": 74,
   "id": "4dd707e3-90a3-45cf-92e6-dbaddfdc8503",
   "metadata": {},
   "outputs": [
    {
     "name": "stdout",
     "output_type": "stream",
     "text": [
      "7^2 = 49\n",
      "2^2 = 4\n"
     ]
    }
   ],
   "source": [
    "## Afficher les carrees des elements de la liste2\n",
    "for item in lis2 :\n",
    "    print(f\"{item}^2 = {item**2}\")"
   ]
  },
  {
   "cell_type": "code",
   "execution_count": 75,
   "id": "50b203f1-81df-44d7-88a4-6058829f7a8a",
   "metadata": {},
   "outputs": [
    {
     "name": "stdout",
     "output_type": "stream",
     "text": [
      "True\n"
     ]
    }
   ],
   "source": [
    "## Assurer que \"white\" est present dans List1\n",
    "print(\"white\" in lis1)"
   ]
  },
  {
   "cell_type": "code",
   "execution_count": 76,
   "id": "13f4dd2e-dce7-4c40-995c-9eaccc5d263f",
   "metadata": {},
   "outputs": [
    {
     "name": "stdout",
     "output_type": "stream",
     "text": [
      "0\n"
     ]
    }
   ],
   "source": [
    "## Trouver l'index de white\n",
    "print(lis1.index(\"white\"))"
   ]
  },
  {
   "cell_type": "code",
   "execution_count": 77,
   "id": "e01056cd-049b-497a-b1fc-d986cd236a7b",
   "metadata": {},
   "outputs": [
    {
     "name": "stdout",
     "output_type": "stream",
     "text": [
      "['white', 'blue', 'green']\n"
     ]
    }
   ],
   "source": [
    "## Creer une copir de la liste1\n",
    "copieList1 = lis1.copy()\n",
    "print(copieList1)"
   ]
  },
  {
   "cell_type": "code",
   "execution_count": 78,
   "id": "0e0f1c5e-9391-4f51-a7a7-386e05ceb64b",
   "metadata": {},
   "outputs": [
    {
     "name": "stdout",
     "output_type": "stream",
     "text": [
      "['white', 'blue', 'green', 7, 2]\n",
      "[7, 2]\n"
     ]
    }
   ],
   "source": [
    "## Fusionner List1 et List2 , dans List1\n",
    "lis1.extend(lis2)\n",
    "print(lis1)\n",
    "print(lis2)"
   ]
  },
  {
   "cell_type": "markdown",
   "id": "69876923-9d4f-4f87-a2cf-ff5b578ab2e0",
   "metadata": {},
   "source": [
    "# Exercice 1"
   ]
  },
  {
   "cell_type": "markdown",
   "id": "3a465375-3312-43ed-b38d-1219d9fbc8ac",
   "metadata": {},
   "source": [
    "## Transformation et analyse d'une liste Numerique"
   ]
  },
  {
   "cell_type": "code",
   "execution_count": 81,
   "id": "a0eca908-ee5e-45a4-a177-e93df7b052db",
   "metadata": {},
   "outputs": [
    {
     "name": "stdout",
     "output_type": "stream",
     "text": [
      "[0, 2, 4, 6, 8, 10, 12, 14, 16, 18, 20, 22, 24, 26, 28]\n"
     ]
    }
   ],
   "source": [
    "## Liste nombres contenenant les 30 premiers nombres positif\n",
    "nombre = [i for i in range(30) if i%2 == 0]\n",
    "print(nombre)"
   ]
  },
  {
   "cell_type": "code",
   "execution_count": 82,
   "id": "c938aaa9-8c36-4e77-bf00-345bc064e18f",
   "metadata": {},
   "outputs": [
    {
     "name": "stdout",
     "output_type": "stream",
     "text": [
      "[0, 6, 12, 18, 24]\n"
     ]
    }
   ],
   "source": [
    "## Filter uniquement les nombres multiples de 3\n",
    "nombre = [i for i in nombre if i%3 == 0]\n",
    "print(nombre)"
   ]
  },
  {
   "cell_type": "code",
   "execution_count": 90,
   "id": "8262842b-3fdc-425d-afe0-32b8af2a734e",
   "metadata": {},
   "outputs": [
    {
     "name": "stdout",
     "output_type": "stream",
     "text": [
      "[0, 36, 144, 324, 576]\n"
     ]
    }
   ],
   "source": [
    "## elevez chaque element filtre au carre et stockez les dans une nouvelle list \"carres\"\n",
    "carres=[]\n",
    "for item in nombre :\n",
    "    carres.append(item**2)\n",
    "print(carres)"
   ]
  },
  {
   "cell_type": "code",
   "execution_count": 91,
   "id": "11e8a95c-00a7-4aac-9b82-31b1396ce176",
   "metadata": {},
   "outputs": [
    {
     "name": "stdout",
     "output_type": "stream",
     "text": [
      "1080\n"
     ]
    }
   ],
   "source": [
    "## Somme des elements paire de la liste carres\n",
    "Somme = 0\n",
    "for item in carres :\n",
    "    if item%2 ==0 :\n",
    "        Somme += item\n",
    "print(Somme)"
   ]
  },
  {
   "cell_type": "code",
   "execution_count": 92,
   "id": "878c1ff0-0c13-431a-94a3-3fbd6cb6f204",
   "metadata": {},
   "outputs": [
    {
     "name": "stdout",
     "output_type": "stream",
     "text": [
      "[576, 324, 144, 36, 0]\n"
     ]
    }
   ],
   "source": [
    "## Tri de la list carres Desc\n",
    "carres.sort(reverse=True)\n",
    "print(carres)"
   ]
  },
  {
   "cell_type": "markdown",
   "id": "7d33dadd-b348-4e8b-b3fd-cd0ead6bf0bf",
   "metadata": {},
   "source": [
    "## Manipulation de textes sous forme de liste"
   ]
  },
  {
   "cell_type": "code",
   "execution_count": 98,
   "id": "46407d0a-ef23-4ec3-9637-0ccbad3d815a",
   "metadata": {},
   "outputs": [],
   "source": [
    "## Creer un liste \"phrases\" contenant au moins 6 phrase\n",
    "phrases = [\"My\",\"Name\",\"Is\",\"Ayman\",\",Im\",\"a\",\"Future FullStack\",\"WebDeveloper\"]"
   ]
  },
  {
   "cell_type": "code",
   "execution_count": 101,
   "id": "11e161b8-65e4-4a94-84b7-bdc77b56df99",
   "metadata": {},
   "outputs": [
    {
     "name": "stdout",
     "output_type": "stream",
     "text": [
      "WebDeveloper\n"
     ]
    }
   ],
   "source": [
    "## Afficher la phrase la plus longue et afficher la\n",
    "MaxWord = phrases[0]\n",
    "for item in phrases:\n",
    "    if len(item) > len(MaxWord) :\n",
    "        MaxWord = item\n",
    "print(MaxWord)\n",
    "    \n",
    "    "
   ]
  },
  {
   "cell_type": "code",
   "execution_count": 120,
   "id": "1ee34480-4538-43bf-a936-f8ec0626e323",
   "metadata": {},
   "outputs": [
    {
     "name": "stdout",
     "output_type": "stream",
     "text": [
      "['Name', 'Name', 'Ayman', 'a', 'FullStack', 'WebDeveloper', 'WebDeveloper']\n"
     ]
    }
   ],
   "source": [
    "## Creer uen liste \"voyelles\" qui contient les mot qui contient une voyelle\n",
    "voyelles = []\n",
    "data = [\"a\",\"e\",\"o\",\"u\",\"i\"]\n",
    "for item in phrases :\n",
    "    for voyelle in data:\n",
    "        if voyelle in item.lower():\n",
    "            voyelles.append(item)\n",
    "print(voyelles)\n",
    "    "
   ]
  },
  {
   "cell_type": "code",
   "execution_count": null,
   "id": "7f0403a9-7039-4346-a3bb-6de15e9407a3",
   "metadata": {},
   "outputs": [],
   "source": []
  },
  {
   "cell_type": "markdown",
   "id": "8b73a745-0fe6-4af0-8547-5707119557e4",
   "metadata": {},
   "source": [
    "## 2-Dictionnaire"
   ]
  },
  {
   "cell_type": "code",
   "execution_count": 40,
   "id": "fee329c0-1bc9-4d4b-96ad-e9351d6cfbb5",
   "metadata": {},
   "outputs": [
    {
     "name": "stdout",
     "output_type": "stream",
     "text": [
      "[{'nom': 'Hoodie', 'quantite': 10, 'prix_unitaire': 199.5}, {'nom': 'Tshirt', 'quantite': 9, 'prix_unitaire': 199.5}, {'nom': 'Hat', 'quantite': 0, 'prix_unitaire': 199.5}, {'nom': 'Phone Case', 'quantite': 30, 'prix_unitaire': 199.5}, {'nom': 'watch', 'quantite': 2, 'prix_unitaire': 800.5}]\n"
     ]
    }
   ],
   "source": [
    "inventaire = [{\"nom\" : \"Hoodie\" ,\"quantite\" : 10,\"prix_unitaire\":199.5},\n",
    "             {\"nom\" : \"Tshirt\" ,\"quantite\" : 9,\"prix_unitaire\":199.5},\n",
    "             {\"nom\" : \"Hat\" ,\"quantite\" : 0,\"prix_unitaire\":199.5},\n",
    "              {\"nom\" : \"Phone Case\" ,\"quantite\" : 30,\"prix_unitaire\":199.5},\n",
    "              {\"nom\" : \"watch\" ,\"quantite\" : 2,\"prix_unitaire\":800.5}\n",
    "]\n",
    "print(inventaire)"
   ]
  },
  {
   "cell_type": "code",
   "execution_count": 41,
   "id": "176c26b7-1da5-495e-9d11-03e526c14bf4",
   "metadata": {},
   "outputs": [
    {
     "name": "stdout",
     "output_type": "stream",
     "text": [
      "{'nom': 'watch', 'quantite': 2, 'prix_unitaire': 800.5}\n"
     ]
    }
   ],
   "source": [
    "maxPrix = inventaire[0]\n",
    "for i in range (len(inventaire)):\n",
    "    if inventaire[i][\"prix_unitaire\"] > maxPrix[\"prix_unitaire\"]:\n",
    "        maxPrix = inventaire[i]\n",
    "print(maxPrix)"
   ]
  },
  {
   "cell_type": "code",
   "execution_count": 42,
   "id": "4fee7c61-0ecc-4479-9f04-89221da42218",
   "metadata": {},
   "outputs": [
    {
     "name": "stdout",
     "output_type": "stream",
     "text": [
      "{'nom': 'Phone Case', 'quantite': 30, 'prix_unitaire': 199.5}\n"
     ]
    }
   ],
   "source": [
    "maxStock = inventaire[0]\n",
    "for i in range (len(inventaire)):\n",
    "    if inventaire[i][\"quantite\"] > maxStock[\"quantite\"]:\n",
    "        maxStock = inventaire[i]\n",
    "print(maxStock)"
   ]
  },
  {
   "cell_type": "code",
   "execution_count": 46,
   "id": "f33f7fbf-ee33-4f8c-85b4-d463d9e5dfaa",
   "metadata": {},
   "outputs": [
    {
     "name": "stdout",
     "output_type": "stream",
     "text": [
      "total Prix du stock = 9775.5\n"
     ]
    }
   ],
   "source": [
    "TotalStock = 0\n",
    "for i in range (len(inventaire)):\n",
    "    inventaire[i][\"cout_total\"] = inventaire[i][\"quantite\"] * inventaire[i][\"prix_unitaire\"]\n",
    "    TotalStock+=inventaire[i][\"cout_total\"]\n",
    "print(f\"total Prix du stock = {TotalStock}\")"
   ]
  },
  {
   "cell_type": "code",
   "execution_count": 45,
   "id": "a3190fdb-90fb-4090-9a25-adcc0ab8f86e",
   "metadata": {},
   "outputs": [
    {
     "name": "stdout",
     "output_type": "stream",
     "text": [
      "[{'nom': 'Hoodie', 'quantite': 10, 'prix_unitaire': 199.5, 'cout_total': 1995.0}, {'nom': 'Tshirt', 'quantite': 9, 'prix_unitaire': 199.5, 'cout_total': 1795.5}, {'nom': 'Phone Case', 'quantite': 30, 'prix_unitaire': 199.5, 'cout_total': 5985.0}]\n"
     ]
    }
   ],
   "source": [
    "for i in range (len(inventaire)):\n",
    "    if inventaire[i][\"quantite\"] < 5 :\n",
    "        inventaire.remove(inventaire[i])\n",
    "print(inventaire)"
   ]
  },
  {
   "cell_type": "markdown",
   "id": "82193f9e-2835-41ea-961f-4d75770a8793",
   "metadata": {},
   "source": [
    "## 3-NumPy"
   ]
  },
  {
   "cell_type": "code",
   "execution_count": 57,
   "id": "b553f183-f767-4f91-b117-5ef6418a585a",
   "metadata": {},
   "outputs": [
    {
     "name": "stdout",
     "output_type": "stream",
     "text": [
      "0.5994780703040836\n"
     ]
    }
   ],
   "source": [
    "## Creer un tableau de 10 nombres aleatoires et calculer leur moyenne\n",
    "import numpy as np\n",
    "tableau1 = np.random.rand(10)\n",
    "print(np.mean(tableau1))"
   ]
  },
  {
   "cell_type": "code",
   "execution_count": null,
   "id": "23851659-d977-4d0a-91f4-0d92fbe9563d",
   "metadata": {},
   "outputs": [],
   "source": []
  },
  {
   "cell_type": "code",
   "execution_count": null,
   "id": "13501e67-d97c-4306-886a-f1cb89936b3c",
   "metadata": {},
   "outputs": [],
   "source": []
  }
 ],
 "metadata": {
  "kernelspec": {
   "display_name": "Python 3 (ipykernel)",
   "language": "python",
   "name": "python3"
  },
  "language_info": {
   "codemirror_mode": {
    "name": "ipython",
    "version": 3
   },
   "file_extension": ".py",
   "mimetype": "text/x-python",
   "name": "python",
   "nbconvert_exporter": "python",
   "pygments_lexer": "ipython3",
   "version": "3.12.7"
  }
 },
 "nbformat": 4,
 "nbformat_minor": 5
}
