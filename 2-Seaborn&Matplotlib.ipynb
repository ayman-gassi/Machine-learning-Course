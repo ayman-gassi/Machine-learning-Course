{
 "cells": [
  {
   "cell_type": "markdown",
   "id": "96978ce4-f495-40dc-a3b8-6f7e2f4f4502",
   "metadata": {},
   "source": [
    "# SuperStore Dataset"
   ]
  },
  {
   "cell_type": "code",
   "execution_count": 17,
   "id": "33fd8917-d865-4b73-8584-e89e7ba0e8b4",
   "metadata": {},
   "outputs": [],
   "source": [
    "import pandas as pd\n",
    "import seaborn as sb\n",
    "import matplotlib as ml"
   ]
  },
  {
   "cell_type": "code",
   "execution_count": 20,
   "id": "5c818527-2dbd-41bb-b844-72548cef723c",
   "metadata": {},
   "outputs": [
    {
     "name": "stdout",
     "output_type": "stream",
     "text": [
      "   Row ID         Order ID Order Date Ship Date     Ship Mode Customer ID  \\\n",
      "0   32298   CA-2012-124891   31-07-12  31-07-12      Same Day    RH-19495   \n",
      "1   26341    IN-2013-77878   05-02-13  07-02-13  Second Class    JR-16210   \n",
      "2   25330    IN-2013-71249   17-10-13  18-10-13   First Class    CR-12730   \n",
      "3   13524  ES-2013-1579342   28-01-13  30-01-13   First Class    KM-16375   \n",
      "4   47221     SG-2013-4320   05-11-13  06-11-13      Same Day     RH-9495   \n",
      "\n",
      "      Customer Name      Segment           City            State  ...  \\\n",
      "0       Rick Hansen     Consumer  New York City         New York  ...   \n",
      "1     Justin Ritter    Corporate     Wollongong  New South Wales  ...   \n",
      "2      Craig Reiter     Consumer       Brisbane       Queensland  ...   \n",
      "3  Katherine Murray  Home Office         Berlin           Berlin  ...   \n",
      "4       Rick Hansen     Consumer          Dakar            Dakar  ...   \n",
      "\n",
      "         Product ID    Category Sub-Category  \\\n",
      "0   TEC-AC-10003033  Technology  Accessories   \n",
      "1   FUR-CH-10003950   Furniture       Chairs   \n",
      "2   TEC-PH-10004664  Technology       Phones   \n",
      "3   TEC-PH-10004583  Technology       Phones   \n",
      "4  TEC-SHA-10000501  Technology      Copiers   \n",
      "\n",
      "                                        Product Name     Sales Quantity  \\\n",
      "0  Plantronics CS510 - Over-the-Head monaural Wir...  2309.650        7   \n",
      "1          Novimex Executive Leather Armchair, Black  3709.395        9   \n",
      "2                  Nokia Smart Phone, with Caller ID  5175.171        9   \n",
      "3                     Motorola Smart Phone, Cordless  2892.510        5   \n",
      "4                     Sharp Wireless Fax, High-Speed  2832.960        8   \n",
      "\n",
      "  Discount    Profit  Shipping Cost  Order Priority  \n",
      "0      0.0  762.1845         933.57        Critical  \n",
      "1      0.1 -288.7650         923.63        Critical  \n",
      "2      0.1  919.9710         915.49          Medium  \n",
      "3      0.1  -96.5400         910.16          Medium  \n",
      "4      0.0  311.5200         903.04        Critical  \n",
      "\n",
      "[5 rows x 24 columns]\n"
     ]
    }
   ],
   "source": [
    "## afficher le dataFrame\n",
    "try:\n",
    "    df = pd.read_csv(\"./docs/Global_Superstore.csv\", encoding='utf-8')  # Try UTF-8 first\n",
    "except UnicodeDecodeError:\n",
    "    df = pd.read_csv(\"./docs/Global_Superstore.csv\", encoding='latin-1')  # Fallback to Latin-1\n",
    "\n",
    "print(df.head())"
   ]
  },
  {
   "cell_type": "code",
   "execution_count": null,
   "id": "d9cec153-136e-43aa-a85e-8db835830b32",
   "metadata": {},
   "outputs": [],
   "source": []
  },
  {
   "cell_type": "code",
   "execution_count": null,
   "id": "02e04ae1-c293-4f99-bfd3-d242d9d2beed",
   "metadata": {},
   "outputs": [],
   "source": []
  }
 ],
 "metadata": {
  "kernelspec": {
   "display_name": "Python 3 (ipykernel)",
   "language": "python",
   "name": "python3"
  },
  "language_info": {
   "codemirror_mode": {
    "name": "ipython",
    "version": 3
   },
   "file_extension": ".py",
   "mimetype": "text/x-python",
   "name": "python",
   "nbconvert_exporter": "python",
   "pygments_lexer": "ipython3",
   "version": "3.12.7"
  }
 },
 "nbformat": 4,
 "nbformat_minor": 5
}
